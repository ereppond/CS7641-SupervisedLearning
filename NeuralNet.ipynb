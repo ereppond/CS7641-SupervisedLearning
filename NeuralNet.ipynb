{
 "cells": [
  {
   "cell_type": "code",
   "execution_count": 1,
   "id": "c7419fa5",
   "metadata": {},
   "outputs": [],
   "source": [
    "import pandas as pd\n",
    "import numpy as np\n",
    "pd.set_option('max_columns', None)\n",
    "\n",
    "from sklearn.tree import DecisionTreeClassifier\n",
    "from sklearn.neural_network import MLPClassifier\n",
    "from sklearn.ensemble import GradientBoostingClassifier\n",
    "from sklearn.svm import LinearSVC\n",
    "from sklearn.neighbors import KNeighborsClassifier\n",
    "\n",
    "from sklearn.model_selection import train_test_split\n",
    "\n",
    "import matplotlib.pyplot as plt\n",
    "import warnings\n",
    "warnings.filterwarnings('ignore')\n",
    "\n",
    "from sklearn.model_selection import GridSearchCV\n",
    "from sklearn.metrics import make_scorer, accuracy_score, classification_report, recall_score"
   ]
  },
  {
   "cell_type": "code",
   "execution_count": 2,
   "id": "989888ab",
   "metadata": {},
   "outputs": [],
   "source": [
    "df_diab = pd.read_csv('data/diabetes_data.csv')\n",
    "df_heart = pd.read_csv('data/heart_disease_data.csv')"
   ]
  },
  {
   "cell_type": "code",
   "execution_count": 3,
   "id": "8489ab8b",
   "metadata": {},
   "outputs": [
    {
     "data": {
      "text/html": [
       "<div>\n",
       "<style scoped>\n",
       "    .dataframe tbody tr th:only-of-type {\n",
       "        vertical-align: middle;\n",
       "    }\n",
       "\n",
       "    .dataframe tbody tr th {\n",
       "        vertical-align: top;\n",
       "    }\n",
       "\n",
       "    .dataframe thead th {\n",
       "        text-align: right;\n",
       "    }\n",
       "</style>\n",
       "<table border=\"1\" class=\"dataframe\">\n",
       "  <thead>\n",
       "    <tr style=\"text-align: right;\">\n",
       "      <th></th>\n",
       "      <th>Age</th>\n",
       "      <th>RestingBP</th>\n",
       "      <th>Cholesterol</th>\n",
       "      <th>FastingBS</th>\n",
       "      <th>MaxHR</th>\n",
       "      <th>ExerciseAngina</th>\n",
       "      <th>Oldpeak</th>\n",
       "      <th>ST_Slope</th>\n",
       "      <th>HeartDisease</th>\n",
       "      <th>ChestPainType_ASY</th>\n",
       "      <th>ChestPainType_ATA</th>\n",
       "      <th>ChestPainType_NAP</th>\n",
       "      <th>ChestPainType_TA</th>\n",
       "      <th>RestingECG_LVH</th>\n",
       "      <th>RestingECG_Normal</th>\n",
       "      <th>RestingECG_ST</th>\n",
       "      <th>IsMale</th>\n",
       "    </tr>\n",
       "  </thead>\n",
       "  <tbody>\n",
       "    <tr>\n",
       "      <th>0</th>\n",
       "      <td>40</td>\n",
       "      <td>True</td>\n",
       "      <td>289</td>\n",
       "      <td>False</td>\n",
       "      <td>172</td>\n",
       "      <td>False</td>\n",
       "      <td>0.0</td>\n",
       "      <td>1</td>\n",
       "      <td>False</td>\n",
       "      <td>False</td>\n",
       "      <td>True</td>\n",
       "      <td>False</td>\n",
       "      <td>False</td>\n",
       "      <td>False</td>\n",
       "      <td>True</td>\n",
       "      <td>False</td>\n",
       "      <td>True</td>\n",
       "    </tr>\n",
       "    <tr>\n",
       "      <th>1</th>\n",
       "      <td>49</td>\n",
       "      <td>True</td>\n",
       "      <td>180</td>\n",
       "      <td>False</td>\n",
       "      <td>156</td>\n",
       "      <td>False</td>\n",
       "      <td>1.0</td>\n",
       "      <td>0</td>\n",
       "      <td>True</td>\n",
       "      <td>False</td>\n",
       "      <td>False</td>\n",
       "      <td>True</td>\n",
       "      <td>False</td>\n",
       "      <td>False</td>\n",
       "      <td>True</td>\n",
       "      <td>False</td>\n",
       "      <td>False</td>\n",
       "    </tr>\n",
       "    <tr>\n",
       "      <th>2</th>\n",
       "      <td>37</td>\n",
       "      <td>True</td>\n",
       "      <td>283</td>\n",
       "      <td>False</td>\n",
       "      <td>98</td>\n",
       "      <td>False</td>\n",
       "      <td>0.0</td>\n",
       "      <td>1</td>\n",
       "      <td>False</td>\n",
       "      <td>False</td>\n",
       "      <td>True</td>\n",
       "      <td>False</td>\n",
       "      <td>False</td>\n",
       "      <td>False</td>\n",
       "      <td>False</td>\n",
       "      <td>True</td>\n",
       "      <td>True</td>\n",
       "    </tr>\n",
       "    <tr>\n",
       "      <th>3</th>\n",
       "      <td>48</td>\n",
       "      <td>True</td>\n",
       "      <td>214</td>\n",
       "      <td>False</td>\n",
       "      <td>108</td>\n",
       "      <td>True</td>\n",
       "      <td>1.5</td>\n",
       "      <td>0</td>\n",
       "      <td>True</td>\n",
       "      <td>True</td>\n",
       "      <td>False</td>\n",
       "      <td>False</td>\n",
       "      <td>False</td>\n",
       "      <td>False</td>\n",
       "      <td>True</td>\n",
       "      <td>False</td>\n",
       "      <td>False</td>\n",
       "    </tr>\n",
       "    <tr>\n",
       "      <th>4</th>\n",
       "      <td>54</td>\n",
       "      <td>True</td>\n",
       "      <td>195</td>\n",
       "      <td>False</td>\n",
       "      <td>122</td>\n",
       "      <td>False</td>\n",
       "      <td>0.0</td>\n",
       "      <td>1</td>\n",
       "      <td>False</td>\n",
       "      <td>False</td>\n",
       "      <td>False</td>\n",
       "      <td>True</td>\n",
       "      <td>False</td>\n",
       "      <td>False</td>\n",
       "      <td>True</td>\n",
       "      <td>False</td>\n",
       "      <td>True</td>\n",
       "    </tr>\n",
       "  </tbody>\n",
       "</table>\n",
       "</div>"
      ],
      "text/plain": [
       "   Age  RestingBP  Cholesterol  FastingBS  MaxHR  ExerciseAngina  Oldpeak  \\\n",
       "0   40       True          289      False    172           False      0.0   \n",
       "1   49       True          180      False    156           False      1.0   \n",
       "2   37       True          283      False     98           False      0.0   \n",
       "3   48       True          214      False    108            True      1.5   \n",
       "4   54       True          195      False    122           False      0.0   \n",
       "\n",
       "   ST_Slope  HeartDisease  ChestPainType_ASY  ChestPainType_ATA  \\\n",
       "0         1         False              False               True   \n",
       "1         0          True              False              False   \n",
       "2         1         False              False               True   \n",
       "3         0          True               True              False   \n",
       "4         1         False              False              False   \n",
       "\n",
       "   ChestPainType_NAP  ChestPainType_TA  RestingECG_LVH  RestingECG_Normal  \\\n",
       "0              False             False           False               True   \n",
       "1               True             False           False               True   \n",
       "2              False             False           False              False   \n",
       "3              False             False           False               True   \n",
       "4               True             False           False               True   \n",
       "\n",
       "   RestingECG_ST  IsMale  \n",
       "0          False    True  \n",
       "1          False   False  \n",
       "2           True    True  \n",
       "3          False   False  \n",
       "4          False    True  "
      ]
     },
     "execution_count": 3,
     "metadata": {},
     "output_type": "execute_result"
    }
   ],
   "source": [
    "df_heart.head()"
   ]
  },
  {
   "cell_type": "code",
   "execution_count": 4,
   "id": "06c50065",
   "metadata": {},
   "outputs": [
    {
     "data": {
      "text/html": [
       "<div>\n",
       "<style scoped>\n",
       "    .dataframe tbody tr th:only-of-type {\n",
       "        vertical-align: middle;\n",
       "    }\n",
       "\n",
       "    .dataframe tbody tr th {\n",
       "        vertical-align: top;\n",
       "    }\n",
       "\n",
       "    .dataframe thead th {\n",
       "        text-align: right;\n",
       "    }\n",
       "</style>\n",
       "<table border=\"1\" class=\"dataframe\">\n",
       "  <thead>\n",
       "    <tr style=\"text-align: right;\">\n",
       "      <th></th>\n",
       "      <th>HighBP</th>\n",
       "      <th>HighChol</th>\n",
       "      <th>CholCheck</th>\n",
       "      <th>BMI</th>\n",
       "      <th>Smoker</th>\n",
       "      <th>Stroke</th>\n",
       "      <th>HeartDiseaseorAttack</th>\n",
       "      <th>PhysActivity</th>\n",
       "      <th>Fruits</th>\n",
       "      <th>Veggies</th>\n",
       "      <th>HvyAlcoholConsump</th>\n",
       "      <th>AnyHealthcare</th>\n",
       "      <th>NoDocbcCost</th>\n",
       "      <th>GenHlth</th>\n",
       "      <th>MentHlth</th>\n",
       "      <th>PhysHlth</th>\n",
       "      <th>DiffWalk</th>\n",
       "      <th>Age</th>\n",
       "      <th>Education</th>\n",
       "      <th>Income</th>\n",
       "      <th>IsMale</th>\n",
       "      <th>Diabetes</th>\n",
       "    </tr>\n",
       "  </thead>\n",
       "  <tbody>\n",
       "    <tr>\n",
       "      <th>0</th>\n",
       "      <td>False</td>\n",
       "      <td>False</td>\n",
       "      <td>False</td>\n",
       "      <td>66.0</td>\n",
       "      <td>False</td>\n",
       "      <td>False</td>\n",
       "      <td>False</td>\n",
       "      <td>False</td>\n",
       "      <td>True</td>\n",
       "      <td>True</td>\n",
       "      <td>False</td>\n",
       "      <td>True</td>\n",
       "      <td>False</td>\n",
       "      <td>5.0</td>\n",
       "      <td>0.0</td>\n",
       "      <td>30.0</td>\n",
       "      <td>True</td>\n",
       "      <td>9.0</td>\n",
       "      <td>4.0</td>\n",
       "      <td>5.0</td>\n",
       "      <td>False</td>\n",
       "      <td>True</td>\n",
       "    </tr>\n",
       "    <tr>\n",
       "      <th>1</th>\n",
       "      <td>False</td>\n",
       "      <td>False</td>\n",
       "      <td>False</td>\n",
       "      <td>34.0</td>\n",
       "      <td>False</td>\n",
       "      <td>False</td>\n",
       "      <td>False</td>\n",
       "      <td>True</td>\n",
       "      <td>False</td>\n",
       "      <td>True</td>\n",
       "      <td>False</td>\n",
       "      <td>True</td>\n",
       "      <td>False</td>\n",
       "      <td>3.0</td>\n",
       "      <td>0.0</td>\n",
       "      <td>0.0</td>\n",
       "      <td>False</td>\n",
       "      <td>7.0</td>\n",
       "      <td>6.0</td>\n",
       "      <td>8.0</td>\n",
       "      <td>False</td>\n",
       "      <td>True</td>\n",
       "    </tr>\n",
       "    <tr>\n",
       "      <th>2</th>\n",
       "      <td>False</td>\n",
       "      <td>False</td>\n",
       "      <td>False</td>\n",
       "      <td>30.0</td>\n",
       "      <td>False</td>\n",
       "      <td>False</td>\n",
       "      <td>False</td>\n",
       "      <td>True</td>\n",
       "      <td>True</td>\n",
       "      <td>True</td>\n",
       "      <td>False</td>\n",
       "      <td>True</td>\n",
       "      <td>False</td>\n",
       "      <td>3.0</td>\n",
       "      <td>0.0</td>\n",
       "      <td>2.0</td>\n",
       "      <td>False</td>\n",
       "      <td>6.0</td>\n",
       "      <td>6.0</td>\n",
       "      <td>8.0</td>\n",
       "      <td>True</td>\n",
       "      <td>True</td>\n",
       "    </tr>\n",
       "    <tr>\n",
       "      <th>3</th>\n",
       "      <td>False</td>\n",
       "      <td>False</td>\n",
       "      <td>False</td>\n",
       "      <td>39.0</td>\n",
       "      <td>False</td>\n",
       "      <td>False</td>\n",
       "      <td>False</td>\n",
       "      <td>True</td>\n",
       "      <td>True</td>\n",
       "      <td>True</td>\n",
       "      <td>False</td>\n",
       "      <td>True</td>\n",
       "      <td>False</td>\n",
       "      <td>2.0</td>\n",
       "      <td>2.0</td>\n",
       "      <td>10.0</td>\n",
       "      <td>True</td>\n",
       "      <td>4.0</td>\n",
       "      <td>5.0</td>\n",
       "      <td>5.0</td>\n",
       "      <td>False</td>\n",
       "      <td>True</td>\n",
       "    </tr>\n",
       "    <tr>\n",
       "      <th>4</th>\n",
       "      <td>False</td>\n",
       "      <td>False</td>\n",
       "      <td>False</td>\n",
       "      <td>37.0</td>\n",
       "      <td>True</td>\n",
       "      <td>False</td>\n",
       "      <td>False</td>\n",
       "      <td>False</td>\n",
       "      <td>False</td>\n",
       "      <td>True</td>\n",
       "      <td>False</td>\n",
       "      <td>True</td>\n",
       "      <td>False</td>\n",
       "      <td>2.0</td>\n",
       "      <td>0.0</td>\n",
       "      <td>0.0</td>\n",
       "      <td>False</td>\n",
       "      <td>7.0</td>\n",
       "      <td>6.0</td>\n",
       "      <td>7.0</td>\n",
       "      <td>True</td>\n",
       "      <td>True</td>\n",
       "    </tr>\n",
       "  </tbody>\n",
       "</table>\n",
       "</div>"
      ],
      "text/plain": [
       "   HighBP  HighChol  CholCheck   BMI  Smoker  Stroke  HeartDiseaseorAttack  \\\n",
       "0   False     False      False  66.0   False   False                 False   \n",
       "1   False     False      False  34.0   False   False                 False   \n",
       "2   False     False      False  30.0   False   False                 False   \n",
       "3   False     False      False  39.0   False   False                 False   \n",
       "4   False     False      False  37.0    True   False                 False   \n",
       "\n",
       "   PhysActivity  Fruits  Veggies  HvyAlcoholConsump  AnyHealthcare  \\\n",
       "0         False    True     True              False           True   \n",
       "1          True   False     True              False           True   \n",
       "2          True    True     True              False           True   \n",
       "3          True    True     True              False           True   \n",
       "4         False   False     True              False           True   \n",
       "\n",
       "   NoDocbcCost  GenHlth  MentHlth  PhysHlth  DiffWalk  Age  Education  Income  \\\n",
       "0        False      5.0       0.0      30.0      True  9.0        4.0     5.0   \n",
       "1        False      3.0       0.0       0.0     False  7.0        6.0     8.0   \n",
       "2        False      3.0       0.0       2.0     False  6.0        6.0     8.0   \n",
       "3        False      2.0       2.0      10.0      True  4.0        5.0     5.0   \n",
       "4        False      2.0       0.0       0.0     False  7.0        6.0     7.0   \n",
       "\n",
       "   IsMale  Diabetes  \n",
       "0   False      True  \n",
       "1   False      True  \n",
       "2    True      True  \n",
       "3   False      True  \n",
       "4    True      True  "
      ]
     },
     "execution_count": 4,
     "metadata": {},
     "output_type": "execute_result"
    }
   ],
   "source": [
    "df_diab.head()"
   ]
  },
  {
   "cell_type": "markdown",
   "id": "c994ebf1",
   "metadata": {},
   "source": [
    "# Algorithms to Explore\n",
    "* Decision Trees (with pruning)\n",
    "* Neural Network\n",
    "* Boosting (GB)\n",
    "* SVM\n",
    "* kNN"
   ]
  },
  {
   "cell_type": "code",
   "execution_count": 5,
   "id": "5131c38c",
   "metadata": {},
   "outputs": [],
   "source": [
    "X_diab = df_diab.drop('Diabetes', axis=1)\n",
    "y_diab = df_diab['Diabetes']\n",
    "\n",
    "X_train_diab, X_test_diab, y_train_diab, y_test_diab = train_test_split(X_diab, y_diab, random_state=0)"
   ]
  },
  {
   "cell_type": "code",
   "execution_count": 6,
   "id": "9ef87041",
   "metadata": {},
   "outputs": [],
   "source": [
    "X_heart = df_heart.drop('HeartDisease', axis=1)\n",
    "y_heart = df_heart['HeartDisease']\n",
    "\n",
    "X_train_heart, X_test_heart, y_train_heart, y_test_heart = train_test_split(X_heart, y_heart, random_state=0)"
   ]
  },
  {
   "cell_type": "markdown",
   "id": "5cbe7fdd",
   "metadata": {},
   "source": [
    "## Neural Network"
   ]
  },
  {
   "cell_type": "code",
   "execution_count": 7,
   "id": "85dcdaa4",
   "metadata": {},
   "outputs": [],
   "source": [
    "def nn_validation(X_train, y_train, X_test, y_test, param, min_val, max_val, step=1, params={}):\n",
    "    scores = []\n",
    "    best_score = 0\n",
    "    values = [val for val in np.arange(min_val, max_val + 1, step)]\n",
    "    for value in values:\n",
    "        params.update({'random_state':0, param: value})\n",
    "        cur_dt = MLPClassifier(**params)\n",
    "        cur_dt.fit(X_train, y_train)\n",
    "        cur_score = get_recall(cur_dt, X_test, y_test)\n",
    "        scores.append(cur_score)\n",
    "        if cur_score > best_score:\n",
    "            best_score = cur_score\n",
    "            print(f'best score: {best_score} --- {param}: {value}', end='\\r')\n",
    "    print(end='\\n')\n",
    "    return scores, values"
   ]
  },
  {
   "cell_type": "code",
   "execution_count": 8,
   "id": "de3766ba",
   "metadata": {},
   "outputs": [],
   "source": [
    "def get_recall(model, X_test, y_test):\n",
    "    y_pred = model.predict(X_test)\n",
    "    recall = classification_report(y_test, y_pred, output_dict=True)['True']['recall']\n",
    "    return recall"
   ]
  },
  {
   "cell_type": "code",
   "execution_count": 9,
   "id": "67729258",
   "metadata": {},
   "outputs": [
    {
     "name": "stdout",
     "output_type": "stream",
     "text": [
      "diabetes baseline score: 0.8017817371937639\n"
     ]
    }
   ],
   "source": [
    "nn_baseline_diab = MLPClassifier(random_state=0)\n",
    "nn_baseline_diab.fit(X_train_diab, y_train_diab)\n",
    "print('diabetes baseline score:', get_recall(nn_baseline_diab, X_test_diab, y_test_diab))"
   ]
  },
  {
   "cell_type": "code",
   "execution_count": 10,
   "id": "035e1758",
   "metadata": {},
   "outputs": [
    {
     "name": "stdout",
     "output_type": "stream",
     "text": [
      "heart disease baseline score: 0.865546218487395\n"
     ]
    }
   ],
   "source": [
    "nn_baseline_heart = MLPClassifier(random_state=0)\n",
    "nn_baseline_heart.fit(X_train_heart, y_train_heart)\n",
    "print('heart disease baseline score:', get_recall(nn_baseline_heart,X_test_heart, y_test_heart))"
   ]
  },
  {
   "cell_type": "code",
   "execution_count": 11,
   "id": "d221b26e",
   "metadata": {},
   "outputs": [
    {
     "name": "stdout",
     "output_type": "stream",
     "text": [
      "Diabetes\n",
      "best score: 0.8590518612790328 --- hidden_layer_sizes: 37\n",
      "\n",
      "Heart Disease\n",
      "best score: 0.8991596638655462 --- hidden_layer_sizes: 39\n"
     ]
    },
    {
     "data": {
      "image/png": "[encoded data removed]",
      "text/plain": [
       "<Figure size 720x360 with 1 Axes>"
      ]
     },
     "metadata": {
      "needs_background": "light"
     },
     "output_type": "display_data"
    }
   ],
   "source": [
    "fig, ax = plt.subplots(figsize=(10,5))\n",
    "print('Diabetes')\n",
    "diab_layer_scores, diab_layer_values = nn_validation(X_train_diab, y_train_diab, \n",
    "                                                     X_test_diab, y_test_diab,\n",
    "                                                     'hidden_layer_sizes', 5, 71, 2)\n",
    "print('\\nHeart Disease')\n",
    "heart_layer_scores, heart_layer_values = nn_validation(X_train_heart, y_train_heart, \n",
    "                                                       X_test_heart, y_test_heart,\n",
    "                                                       'hidden_layer_sizes', 5, 51, 2)\n",
    "ax.plot(diab_layer_values, diab_layer_scores, label='Diabetes')\n",
    "ax.plot(heart_layer_values, heart_layer_scores, label='Heart Disease')\n",
    "ax.grid()\n",
    "ax.set_xlabel('Hidden Layer Size')\n",
    "ax.set_title('Hidden Layer Size vs. Recall')\n",
    "ax.set_xlim(5, 71)\n",
    "plt.legend()\n",
    "ax.set_ylabel('Recall');"
   ]
  },
  {
   "cell_type": "code",
   "execution_count": 12,
   "id": "b9acd083",
   "metadata": {},
   "outputs": [
    {
     "data": {
      "text/plain": [
       "0.780782691695832"
      ]
     },
     "execution_count": 12,
     "metadata": {},
     "output_type": "execute_result"
    }
   ],
   "source": [
    "diab_params = {'hidden_layer_sizes':40, 'random_state':0, 'max_iter':150}\n",
    "diab_nn = MLPClassifier(**diab_params)\n",
    "diab_nn.fit(X_train_diab, y_train_diab)\n",
    "get_recall(diab_nn, X_test_diab, y_test_diab)"
   ]
  },
  {
   "cell_type": "code",
   "execution_count": 13,
   "id": "ae277c1d",
   "metadata": {},
   "outputs": [
    {
     "data": {
      "text/plain": [
       "0.8739495798319328"
      ]
     },
     "execution_count": 13,
     "metadata": {},
     "output_type": "execute_result"
    }
   ],
   "source": [
    "heart_params = {'hidden_layer_sizes':25, 'random_state':0}\n",
    "heart_nn = MLPClassifier(**heart_params)\n",
    "heart_nn.fit(X_train_heart, y_train_heart)\n",
    "get_recall(heart_nn, X_test_heart, y_test_heart)"
   ]
  },
  {
   "cell_type": "code",
   "execution_count": 14,
   "id": "30d96406",
   "metadata": {},
   "outputs": [
    {
     "data": {
      "image/png": "[encoded data removed]",
      "text/plain": [
       "<Figure size 720x360 with 1 Axes>"
      ]
     },
     "metadata": {
      "needs_background": "light"
     },
     "output_type": "display_data"
    }
   ],
   "source": [
    "fig, ax = plt.subplots(figsize=(10,5))\n",
    "ax.plot(diab_nn.loss_curve_, label='Diabetes')\n",
    "ax.plot(heart_nn.loss_curve_, label='Heart Disease')\n",
    "plt.legend()\n",
    "ax.set_title('Neural Network Loss')\n",
    "ax.set_ylabel('Loss')\n",
    "\n",
    "ax.set_xlabel('Epoch');"
   ]
  },
  {
   "cell_type": "code",
   "execution_count": 15,
   "id": "81991ae2",
   "metadata": {},
   "outputs": [],
   "source": [
    "import json\n",
    "with open('params/nn_params.json', 'w') as f:\n",
    "    params = {'diab':diab_params, 'heart':heart_params}\n",
    "    json.dump(params, f)"
   ]
  },
  {
   "cell_type": "code",
   "execution_count": null,
   "id": "e2ba26ef",
   "metadata": {},
   "outputs": [],
   "source": []
  }
 ],
 "metadata": {
  "kernelspec": {
   "display_name": "Python 3 (ipykernel)",
   "language": "python",
   "name": "python3"
  },
  "language_info": {
   "codemirror_mode": {
    "name": "ipython",
    "version": 3
   },
   "file_extension": ".py",
   "mimetype": "text/x-python",
   "name": "python",
   "nbconvert_exporter": "python",
   "pygments_lexer": "ipython3",
   "version": "3.9.7"
  }
 },
 "nbformat": 4,
 "nbformat_minor": 5
}

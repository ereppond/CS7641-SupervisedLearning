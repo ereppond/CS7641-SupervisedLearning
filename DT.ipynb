{
 "cells": [
  {
   "cell_type": "markdown",
   "id": "63b11712",
   "metadata": {},
   "source": [
    "## Diabetes Health Indicators Dataset\n",
    "\n",
    "|      Column Name     | Meaning                                                                                                                                                                                                                                                                                                                                 |\n",
    "|:--------------------:|-----------------------------------------------------------------------------------------------------------------------------------------------------------------------------------------------------------------------------------------------------------------------------------------------------------------------------------------|\n",
    "|     Diabetes_012     | 0 = no diabetes 1 = prediabetes 2 = diabetes                                                                                                                                                                                                                                                                                            |\n",
    "|        HighBP        | 0 = no high BP 1 = high BP                                                                                                                                                                                                                                                                                                              |\n",
    "|        HighCol       | 0 = no high cholesterol 1 = high cholesterol                                                                                                                                                                                                                                                                                            |\n",
    "|       CholCheck      | 0 = no cholesterol check in 5 years 1 = yes cholesterol check in 5 years                                                                                                                                                                                                                                                                |\n",
    "|          BMI         | Body Mass Index                                                                                                                                                                                                                                                                                                                         |\n",
    "|        Smoker        | Have you smoked at least 100 cigarettes in your entire life? [Note: 5 packs = 100 cigarettes] 0 = no 1 = yes                                                                                                                                                                                                                            |\n",
    "|        Stroke        | (Ever told) you had a stroke. 0 = no 1 = yes                                                                                                                                                                                                                                                                                            |\n",
    "| HeartDiseaseorAttack | coronary heart disease (CHD) or myocardial infarction (MI) 0 = no 1 = yes                                                                                                                                                                                                                                                               |\n",
    "|     PhysActivity     | physical activity in past 30 days - not including job 0 = no 1 = yes                                                                                                                                                                                                                                                                    |\n",
    "|        Fruits        | Consume Fruit 1 or more times per day 0 = no 1 = yes                                                                                                                                                                                                                                                                                    |\n",
    "|        Veggies       | Consume Vegetables 1 or more times per day 0 = no 1 = yes                                                                                                                                                                                                                                                                               |\n",
    "|     AnyHealthcare    | Have any kind of health care coverage, including health insurance, prepaid plans such as HMO, etc. 0 = no 1 = yes                                                                                                                                                                                                                       |\n",
    "|        GenHlth       | Would you say that in general your health is: scale 1-5 1 = excellent 2 = very good 3 = good 4 = fair 5 = poor                                                                                                                                                                                                                          |\n",
    "|       MentHlth       | Now thinking about your mental health, which includes stress, depression, and problems with emotions, for how many days during the past 30 days was your mental health not good? scale 1-30 days                                                                                                                                        |\n",
    "|       PhysHlth       | Now thinking about your physical health, which includes physical illness and injury, for how many days during the past 30 days was your physical health not good? scale 1-30 days                                                                                                                                                       |\n",
    "|       DiffWalk       | Do you have serious difficulty walking or climbing stairs? 0 = no 1 = yes                                                                                                                                                                                                                                                               |\n",
    "|          Sex         | 0 = female 1 = male                                                                                                                                                                                                                                                                                                                     |\n",
    "|          Age         | Age                                                                                                                                                                                                                                                                                                                                     |\n",
    "|       Education      | Education level (EDUCA see codebook) scale 1-6 1 = Never attended school or only kindergarten 2 = Grades 1 through 8 (Elementary) 3 = Grades 9 through 11 (Some high school) 4 = Grade 12 or GED (High school graduate) 5 = College 1 year to 3 years (Some college or technical school) 6 = College 4 years or more (College graduate) |\n",
    "|        Income        | Income scale (INCOME2 see codebook) scale 1-8 1 = less than $10,000 5 = less than $35,000 8 = $75,000 or more                                                                                                                                                                                                                           |\n",
    "|   HvyAlcoholConsump  | Heavy drinkers (adult men having more than 14 drinks per week and adult women having more than 7 drinks per week) 0 = no 1 = yes                                                                                                                                                                                                        |\n",
    "|      NoDocbcCost     | Was there a time in the past 12 months when you needed to see a doctor but could not because of cost? 0 = no 1 = yes                                                                                                                                                                                                                    |"
   ]
  },
  {
   "cell_type": "code",
   "execution_count": 1,
   "id": "0fb037b7",
   "metadata": {},
   "outputs": [],
   "source": [
    "import pandas as pd\n",
    "import numpy as np\n",
    "import json\n",
    "pd.set_option('max_columns', None)\n",
    "\n",
    "from sklearn.tree import DecisionTreeClassifier\n",
    "from sklearn.neural_network import MLPClassifier\n",
    "from sklearn.ensemble import GradientBoostingClassifier\n",
    "from sklearn.svm import LinearSVC\n",
    "from sklearn.neighbors import KNeighborsClassifier\n",
    "\n",
    "from sklearn.model_selection import train_test_split\n",
    "\n",
    "import matplotlib.pyplot as plt\n",
    "import warnings\n",
    "warnings.filterwarnings('ignore')\n",
    "\n",
    "from sklearn.model_selection import GridSearchCV\n",
    "from sklearn.metrics import make_scorer, accuracy_score, classification_report, recall_score"
   ]
  },
  {
   "cell_type": "code",
   "execution_count": 2,
   "id": "0b7e2db2",
   "metadata": {},
   "outputs": [],
   "source": [
    "df_diab = pd.read_csv('data/diabetes_data.csv')\n",
    "df_heart = pd.read_csv('data/heart_disease_data.csv')"
   ]
  },
  {
   "cell_type": "code",
   "execution_count": 3,
   "id": "90379525",
   "metadata": {},
   "outputs": [
    {
     "data": {
      "text/html": [
       "<div>\n",
       "<style scoped>\n",
       "    .dataframe tbody tr th:only-of-type {\n",
       "        vertical-align: middle;\n",
       "    }\n",
       "\n",
       "    .dataframe tbody tr th {\n",
       "        vertical-align: top;\n",
       "    }\n",
       "\n",
       "    .dataframe thead th {\n",
       "        text-align: right;\n",
       "    }\n",
       "</style>\n",
       "<table border=\"1\" class=\"dataframe\">\n",
       "  <thead>\n",
       "    <tr style=\"text-align: right;\">\n",
       "      <th></th>\n",
       "      <th>Age</th>\n",
       "      <th>RestingBP</th>\n",
       "      <th>Cholesterol</th>\n",
       "      <th>FastingBS</th>\n",
       "      <th>MaxHR</th>\n",
       "      <th>ExerciseAngina</th>\n",
       "      <th>Oldpeak</th>\n",
       "      <th>ST_Slope</th>\n",
       "      <th>HeartDisease</th>\n",
       "      <th>ChestPainType_ASY</th>\n",
       "      <th>ChestPainType_ATA</th>\n",
       "      <th>ChestPainType_NAP</th>\n",
       "      <th>ChestPainType_TA</th>\n",
       "      <th>RestingECG_LVH</th>\n",
       "      <th>RestingECG_Normal</th>\n",
       "      <th>RestingECG_ST</th>\n",
       "      <th>IsMale</th>\n",
       "    </tr>\n",
       "  </thead>\n",
       "  <tbody>\n",
       "    <tr>\n",
       "      <th>0</th>\n",
       "      <td>40</td>\n",
       "      <td>True</td>\n",
       "      <td>289</td>\n",
       "      <td>False</td>\n",
       "      <td>172</td>\n",
       "      <td>False</td>\n",
       "      <td>0.0</td>\n",
       "      <td>1</td>\n",
       "      <td>False</td>\n",
       "      <td>False</td>\n",
       "      <td>True</td>\n",
       "      <td>False</td>\n",
       "      <td>False</td>\n",
       "      <td>False</td>\n",
       "      <td>True</td>\n",
       "      <td>False</td>\n",
       "      <td>True</td>\n",
       "    </tr>\n",
       "    <tr>\n",
       "      <th>1</th>\n",
       "      <td>49</td>\n",
       "      <td>True</td>\n",
       "      <td>180</td>\n",
       "      <td>False</td>\n",
       "      <td>156</td>\n",
       "      <td>False</td>\n",
       "      <td>1.0</td>\n",
       "      <td>0</td>\n",
       "      <td>True</td>\n",
       "      <td>False</td>\n",
       "      <td>False</td>\n",
       "      <td>True</td>\n",
       "      <td>False</td>\n",
       "      <td>False</td>\n",
       "      <td>True</td>\n",
       "      <td>False</td>\n",
       "      <td>False</td>\n",
       "    </tr>\n",
       "    <tr>\n",
       "      <th>2</th>\n",
       "      <td>37</td>\n",
       "      <td>True</td>\n",
       "      <td>283</td>\n",
       "      <td>False</td>\n",
       "      <td>98</td>\n",
       "      <td>False</td>\n",
       "      <td>0.0</td>\n",
       "      <td>1</td>\n",
       "      <td>False</td>\n",
       "      <td>False</td>\n",
       "      <td>True</td>\n",
       "      <td>False</td>\n",
       "      <td>False</td>\n",
       "      <td>False</td>\n",
       "      <td>False</td>\n",
       "      <td>True</td>\n",
       "      <td>True</td>\n",
       "    </tr>\n",
       "    <tr>\n",
       "      <th>3</th>\n",
       "      <td>48</td>\n",
       "      <td>True</td>\n",
       "      <td>214</td>\n",
       "      <td>False</td>\n",
       "      <td>108</td>\n",
       "      <td>True</td>\n",
       "      <td>1.5</td>\n",
       "      <td>0</td>\n",
       "      <td>True</td>\n",
       "      <td>True</td>\n",
       "      <td>False</td>\n",
       "      <td>False</td>\n",
       "      <td>False</td>\n",
       "      <td>False</td>\n",
       "      <td>True</td>\n",
       "      <td>False</td>\n",
       "      <td>False</td>\n",
       "    </tr>\n",
       "    <tr>\n",
       "      <th>4</th>\n",
       "      <td>54</td>\n",
       "      <td>True</td>\n",
       "      <td>195</td>\n",
       "      <td>False</td>\n",
       "      <td>122</td>\n",
       "      <td>False</td>\n",
       "      <td>0.0</td>\n",
       "      <td>1</td>\n",
       "      <td>False</td>\n",
       "      <td>False</td>\n",
       "      <td>False</td>\n",
       "      <td>True</td>\n",
       "      <td>False</td>\n",
       "      <td>False</td>\n",
       "      <td>True</td>\n",
       "      <td>False</td>\n",
       "      <td>True</td>\n",
       "    </tr>\n",
       "  </tbody>\n",
       "</table>\n",
       "</div>"
      ],
      "text/plain": [
       "   Age  RestingBP  Cholesterol  FastingBS  MaxHR  ExerciseAngina  Oldpeak  \\\n",
       "0   40       True          289      False    172           False      0.0   \n",
       "1   49       True          180      False    156           False      1.0   \n",
       "2   37       True          283      False     98           False      0.0   \n",
       "3   48       True          214      False    108            True      1.5   \n",
       "4   54       True          195      False    122           False      0.0   \n",
       "\n",
       "   ST_Slope  HeartDisease  ChestPainType_ASY  ChestPainType_ATA  \\\n",
       "0         1         False              False               True   \n",
       "1         0          True              False              False   \n",
       "2         1         False              False               True   \n",
       "3         0          True               True              False   \n",
       "4         1         False              False              False   \n",
       "\n",
       "   ChestPainType_NAP  ChestPainType_TA  RestingECG_LVH  RestingECG_Normal  \\\n",
       "0              False             False           False               True   \n",
       "1               True             False           False               True   \n",
       "2              False             False           False              False   \n",
       "3              False             False           False               True   \n",
       "4               True             False           False               True   \n",
       "\n",
       "   RestingECG_ST  IsMale  \n",
       "0          False    True  \n",
       "1          False   False  \n",
       "2           True    True  \n",
       "3          False   False  \n",
       "4          False    True  "
      ]
     },
     "execution_count": 3,
     "metadata": {},
     "output_type": "execute_result"
    }
   ],
   "source": [
    "df_heart.head()"
   ]
  },
  {
   "cell_type": "code",
   "execution_count": 4,
   "id": "fa0a4516",
   "metadata": {},
   "outputs": [
    {
     "data": {
      "text/html": [
       "<div>\n",
       "<style scoped>\n",
       "    .dataframe tbody tr th:only-of-type {\n",
       "        vertical-align: middle;\n",
       "    }\n",
       "\n",
       "    .dataframe tbody tr th {\n",
       "        vertical-align: top;\n",
       "    }\n",
       "\n",
       "    .dataframe thead th {\n",
       "        text-align: right;\n",
       "    }\n",
       "</style>\n",
       "<table border=\"1\" class=\"dataframe\">\n",
       "  <thead>\n",
       "    <tr style=\"text-align: right;\">\n",
       "      <th></th>\n",
       "      <th>HighBP</th>\n",
       "      <th>HighChol</th>\n",
       "      <th>CholCheck</th>\n",
       "      <th>BMI</th>\n",
       "      <th>Smoker</th>\n",
       "      <th>Stroke</th>\n",
       "      <th>HeartDiseaseorAttack</th>\n",
       "      <th>PhysActivity</th>\n",
       "      <th>Fruits</th>\n",
       "      <th>Veggies</th>\n",
       "      <th>HvyAlcoholConsump</th>\n",
       "      <th>AnyHealthcare</th>\n",
       "      <th>NoDocbcCost</th>\n",
       "      <th>GenHlth</th>\n",
       "      <th>MentHlth</th>\n",
       "      <th>PhysHlth</th>\n",
       "      <th>DiffWalk</th>\n",
       "      <th>Age</th>\n",
       "      <th>Education</th>\n",
       "      <th>Income</th>\n",
       "      <th>IsMale</th>\n",
       "      <th>Diabetes</th>\n",
       "    </tr>\n",
       "  </thead>\n",
       "  <tbody>\n",
       "    <tr>\n",
       "      <th>0</th>\n",
       "      <td>False</td>\n",
       "      <td>False</td>\n",
       "      <td>False</td>\n",
       "      <td>66.0</td>\n",
       "      <td>False</td>\n",
       "      <td>False</td>\n",
       "      <td>False</td>\n",
       "      <td>False</td>\n",
       "      <td>True</td>\n",
       "      <td>True</td>\n",
       "      <td>False</td>\n",
       "      <td>True</td>\n",
       "      <td>False</td>\n",
       "      <td>5.0</td>\n",
       "      <td>0.0</td>\n",
       "      <td>30.0</td>\n",
       "      <td>True</td>\n",
       "      <td>9.0</td>\n",
       "      <td>4.0</td>\n",
       "      <td>5.0</td>\n",
       "      <td>False</td>\n",
       "      <td>True</td>\n",
       "    </tr>\n",
       "    <tr>\n",
       "      <th>1</th>\n",
       "      <td>False</td>\n",
       "      <td>False</td>\n",
       "      <td>False</td>\n",
       "      <td>34.0</td>\n",
       "      <td>False</td>\n",
       "      <td>False</td>\n",
       "      <td>False</td>\n",
       "      <td>True</td>\n",
       "      <td>False</td>\n",
       "      <td>True</td>\n",
       "      <td>False</td>\n",
       "      <td>True</td>\n",
       "      <td>False</td>\n",
       "      <td>3.0</td>\n",
       "      <td>0.0</td>\n",
       "      <td>0.0</td>\n",
       "      <td>False</td>\n",
       "      <td>7.0</td>\n",
       "      <td>6.0</td>\n",
       "      <td>8.0</td>\n",
       "      <td>False</td>\n",
       "      <td>True</td>\n",
       "    </tr>\n",
       "    <tr>\n",
       "      <th>2</th>\n",
       "      <td>False</td>\n",
       "      <td>False</td>\n",
       "      <td>False</td>\n",
       "      <td>30.0</td>\n",
       "      <td>False</td>\n",
       "      <td>False</td>\n",
       "      <td>False</td>\n",
       "      <td>True</td>\n",
       "      <td>True</td>\n",
       "      <td>True</td>\n",
       "      <td>False</td>\n",
       "      <td>True</td>\n",
       "      <td>False</td>\n",
       "      <td>3.0</td>\n",
       "      <td>0.0</td>\n",
       "      <td>2.0</td>\n",
       "      <td>False</td>\n",
       "      <td>6.0</td>\n",
       "      <td>6.0</td>\n",
       "      <td>8.0</td>\n",
       "      <td>True</td>\n",
       "      <td>True</td>\n",
       "    </tr>\n",
       "    <tr>\n",
       "      <th>3</th>\n",
       "      <td>False</td>\n",
       "      <td>False</td>\n",
       "      <td>False</td>\n",
       "      <td>39.0</td>\n",
       "      <td>False</td>\n",
       "      <td>False</td>\n",
       "      <td>False</td>\n",
       "      <td>True</td>\n",
       "      <td>True</td>\n",
       "      <td>True</td>\n",
       "      <td>False</td>\n",
       "      <td>True</td>\n",
       "      <td>False</td>\n",
       "      <td>2.0</td>\n",
       "      <td>2.0</td>\n",
       "      <td>10.0</td>\n",
       "      <td>True</td>\n",
       "      <td>4.0</td>\n",
       "      <td>5.0</td>\n",
       "      <td>5.0</td>\n",
       "      <td>False</td>\n",
       "      <td>True</td>\n",
       "    </tr>\n",
       "    <tr>\n",
       "      <th>4</th>\n",
       "      <td>False</td>\n",
       "      <td>False</td>\n",
       "      <td>False</td>\n",
       "      <td>37.0</td>\n",
       "      <td>True</td>\n",
       "      <td>False</td>\n",
       "      <td>False</td>\n",
       "      <td>False</td>\n",
       "      <td>False</td>\n",
       "      <td>True</td>\n",
       "      <td>False</td>\n",
       "      <td>True</td>\n",
       "      <td>False</td>\n",
       "      <td>2.0</td>\n",
       "      <td>0.0</td>\n",
       "      <td>0.0</td>\n",
       "      <td>False</td>\n",
       "      <td>7.0</td>\n",
       "      <td>6.0</td>\n",
       "      <td>7.0</td>\n",
       "      <td>True</td>\n",
       "      <td>True</td>\n",
       "    </tr>\n",
       "  </tbody>\n",
       "</table>\n",
       "</div>"
      ],
      "text/plain": [
       "   HighBP  HighChol  CholCheck   BMI  Smoker  Stroke  HeartDiseaseorAttack  \\\n",
       "0   False     False      False  66.0   False   False                 False   \n",
       "1   False     False      False  34.0   False   False                 False   \n",
       "2   False     False      False  30.0   False   False                 False   \n",
       "3   False     False      False  39.0   False   False                 False   \n",
       "4   False     False      False  37.0    True   False                 False   \n",
       "\n",
       "   PhysActivity  Fruits  Veggies  HvyAlcoholConsump  AnyHealthcare  \\\n",
       "0         False    True     True              False           True   \n",
       "1          True   False     True              False           True   \n",
       "2          True    True     True              False           True   \n",
       "3          True    True     True              False           True   \n",
       "4         False   False     True              False           True   \n",
       "\n",
       "   NoDocbcCost  GenHlth  MentHlth  PhysHlth  DiffWalk  Age  Education  Income  \\\n",
       "0        False      5.0       0.0      30.0      True  9.0        4.0     5.0   \n",
       "1        False      3.0       0.0       0.0     False  7.0        6.0     8.0   \n",
       "2        False      3.0       0.0       2.0     False  6.0        6.0     8.0   \n",
       "3        False      2.0       2.0      10.0      True  4.0        5.0     5.0   \n",
       "4        False      2.0       0.0       0.0     False  7.0        6.0     7.0   \n",
       "\n",
       "   IsMale  Diabetes  \n",
       "0   False      True  \n",
       "1   False      True  \n",
       "2    True      True  \n",
       "3   False      True  \n",
       "4    True      True  "
      ]
     },
     "execution_count": 4,
     "metadata": {},
     "output_type": "execute_result"
    }
   ],
   "source": [
    "df_diab.head()"
   ]
  },
  {
   "cell_type": "markdown",
   "id": "3a99c856",
   "metadata": {},
   "source": [
    "# Algorithms to Explore\n",
    "* Decision Trees (with pruning)\n",
    "* Neural Network\n",
    "* Boosting (GB)\n",
    "* SVM\n",
    "* kNN"
   ]
  },
  {
   "cell_type": "code",
   "execution_count": 5,
   "id": "342ace32",
   "metadata": {},
   "outputs": [],
   "source": [
    "X_diab = df_diab.drop('Diabetes', axis=1)\n",
    "y_diab = df_diab['Diabetes']\n",
    "\n",
    "X_train_diab, X_test_diab, y_train_diab, y_test_diab = train_test_split(X_diab, y_diab, random_state=0)"
   ]
  },
  {
   "cell_type": "code",
   "execution_count": 6,
   "id": "b17ea54b",
   "metadata": {},
   "outputs": [],
   "source": [
    "X_heart = df_heart.drop('HeartDisease', axis=1)\n",
    "y_heart = df_heart['HeartDisease']\n",
    "\n",
    "X_train_heart, X_test_heart, y_train_heart, y_test_heart = train_test_split(X_heart, y_heart, random_state=0)"
   ]
  },
  {
   "cell_type": "markdown",
   "id": "2c4442d5",
   "metadata": {},
   "source": [
    "## Decision Tree\n",
    "Pruning"
   ]
  },
  {
   "cell_type": "markdown",
   "id": "198a1227",
   "metadata": {},
   "source": [
    "#### Hyperparameters\n",
    "* impurity : The impurity measure defines how well a number of classes are separated. In general, the impurity measure should be largest when data are split evenly for attribute values and should be zero when all data belong to the same class.\n",
    "* min_samples_leaf\n",
    "    * needs to be changed to greater than one so there is more than one data point per leaf (avoids overfitting)\n",
    "    * The paper, An empirical study on hyperparameter tuning of decision trees [5] also states that the ideal min_samples_leaf values tend to be between 1 to 20 for the CART algorithm. This paper also indicates that min_samples_split and min_samples_leaf are the most responsible for the performance of the final trees from their relative importance analysis [5].\n",
    "* min_weight_fraction_leaf\n",
    "    * deals with an imbalanced dataset\n",
    "    * Class balancing can be done by sampling an equal number of samples from each class, or preferably by normalizing the sum of the sample weights for each class to the same value.\n",
    "* max_features \n",
    "    * can reduce computational complexity by reducing the number of features examined for a split - default is all features\n",
    "* class_weight\n",
    "    * can even out the dataset - look at how many times larger False is than True and weight accordingly"
   ]
  },
  {
   "cell_type": "markdown",
   "id": "8f3cb066",
   "metadata": {},
   "source": [
    "Approach -\n",
    "1. start by training a basic model, no pruning \n",
    "2. report results\n",
    "3. prune tree depth and reanalyze"
   ]
  },
  {
   "cell_type": "code",
   "execution_count": 7,
   "id": "d5eccaa5",
   "metadata": {},
   "outputs": [],
   "source": [
    "def dt_tree_validation(X_train, y_train, X_test, y_test, param, min_val, max_val, step=1, params={}):\n",
    "    scores = []\n",
    "    best_score = 0\n",
    "    values = [val for val in np.arange(min_val, max_val, step)]\n",
    "    for value in values:\n",
    "        params.update({'random_state':0, param: value})\n",
    "        cur_dt = DecisionTreeClassifier(**params)\n",
    "        cur_dt.fit(X_train, y_train)\n",
    "        cur_score = get_recall(cur_dt, X_test, y_test)\n",
    "        scores.append(cur_score)\n",
    "        if cur_score > best_score:\n",
    "            best_score = cur_score\n",
    "            print(f'best score: {best_score} --- {param}: {value}', end='\\r')\n",
    "    print(end='\\n')\n",
    "    return scores, values"
   ]
  },
  {
   "cell_type": "code",
   "execution_count": 8,
   "id": "d670d8ef",
   "metadata": {},
   "outputs": [],
   "source": [
    "def get_recall(model, X_test, y_test):\n",
    "    y_pred = model.predict(X_test)\n",
    "    recall = classification_report(y_test, y_pred, output_dict=True)['True']['recall']\n",
    "    return recall"
   ]
  },
  {
   "cell_type": "code",
   "execution_count": 9,
   "id": "42cb5013",
   "metadata": {},
   "outputs": [
    {
     "name": "stdout",
     "output_type": "stream",
     "text": [
      "diabetes baseline score: 0.6446070633153038\n"
     ]
    }
   ],
   "source": [
    "dt_baseline_diab = DecisionTreeClassifier(random_state=0)\n",
    "dt_baseline_diab.fit(X_train_diab, y_train_diab)\n",
    "print('diabetes baseline score:', get_recall(dt_baseline_diab, X_test_diab, y_test_diab))\n",
    "\n",
    "max_depth_diab = dt_baseline_diab.get_depth()\n",
    "min_depth_diab = 1"
   ]
  },
  {
   "cell_type": "code",
   "execution_count": 10,
   "id": "63977d8d",
   "metadata": {},
   "outputs": [
    {
     "name": "stdout",
     "output_type": "stream",
     "text": [
      "heart disease baseline score: 0.8151260504201681\n"
     ]
    }
   ],
   "source": [
    "dt_baseline_heart = DecisionTreeClassifier(random_state=0)\n",
    "dt_baseline_heart.fit(X_train_heart, y_train_heart)\n",
    "print('heart disease baseline score:', get_recall(dt_baseline_heart,X_test_heart, y_test_heart))\n",
    "\n",
    "max_depth_heart = dt_baseline_heart.get_depth()\n",
    "min_depth_heart = 1"
   ]
  },
  {
   "cell_type": "code",
   "execution_count": 11,
   "id": "fd4f798b",
   "metadata": {},
   "outputs": [
    {
     "name": "stdout",
     "output_type": "stream",
     "text": [
      "Diabetes\n",
      "best score: 0.8717785555202037 --- max_depth: 3\n",
      "\n",
      "Heart Disease\n",
      "best score: 0.9327731092436975 --- max_depth: 2\n"
     ]
    },
    {
     "data": {
      "image/png": "[encoded data removed]",
      "text/plain": [
       "<Figure size 720x360 with 1 Axes>"
      ]
     },
     "metadata": {
      "needs_background": "light"
     },
     "output_type": "display_data"
    }
   ],
   "source": [
    "fig, ax = plt.subplots(figsize=(10,5))\n",
    "print('Diabetes')\n",
    "diab_depth_scores, diab_depth_values = dt_tree_validation(X_train_diab, y_train_diab, \n",
    "                                                          X_test_diab, y_test_diab,\n",
    "                                                          'max_depth', min_depth_diab, max_depth_diab)\n",
    "print('\\nHeart Disease')\n",
    "heart_depth_scores, heart_depth_values = dt_tree_validation(X_train_heart, y_train_heart, \n",
    "                                                          X_test_heart, y_test_heart,\n",
    "                                                          'max_depth', min_depth_heart, max_depth_heart)\n",
    "ax.plot(diab_depth_values, diab_depth_scores, label='Diabetes')\n",
    "ax.plot(heart_depth_values, heart_depth_scores, label='Heart Disease')\n",
    "ax.grid()\n",
    "ax.set_xlabel('Tree Depth')\n",
    "ax.set_title('Max Tree Depth vs. Recall')\n",
    "plt.legend()\n",
    "ax.set_ylabel('Recall');"
   ]
  },
  {
   "cell_type": "code",
   "execution_count": 12,
   "id": "8b8f5c70",
   "metadata": {},
   "outputs": [
    {
     "name": "stdout",
     "output_type": "stream",
     "text": [
      "Diabetes\n",
      "best score: 0.8717785555202037 --- min_samples_leaf: 0.001\n",
      "\n",
      "Heart Disease\n",
      "best score: 0.9411764705882353 --- min_samples_leaf: 0.066\n"
     ]
    },
    {
     "data": {
      "image/png": "[encoded data removed]",
      "text/plain": [
       "<Figure size 720x360 with 1 Axes>"
      ]
     },
     "metadata": {
      "needs_background": "light"
     },
     "output_type": "display_data"
    }
   ],
   "source": [
    "fig, ax = plt.subplots(figsize=(10,5))\n",
    "print('Diabetes')\n",
    "diab_depth_scores, diab_depth_values = dt_tree_validation(X_train_diab, y_train_diab, \n",
    "                                                          X_test_diab, y_test_diab,\n",
    "                                                          'min_samples_leaf', 0.001, .45, .005,\n",
    "                                                          params={'max_depth':3})\n",
    "print('\\nHeart Disease')\n",
    "heart_depth_scores, heart_depth_values = dt_tree_validation(X_train_heart, y_train_heart, \n",
    "                                                            X_test_heart, y_test_heart,\n",
    "                                                            'min_samples_leaf', .001, .45, .005,\n",
    "                                                            params={'max_depth':2})\n",
    "ax.plot(diab_depth_values, diab_depth_scores, label='Diabetes')\n",
    "ax.plot(heart_depth_values, heart_depth_scores, label='Heart Disease')\n",
    "ax.grid()\n",
    "ax.set_xlabel('Minimum Samples per Leaf')\n",
    "plt.legend()\n",
    "ax.set_title('Min Samples per Leaf vs Recall')\n",
    "ax.set_ylabel('Recall');"
   ]
  },
  {
   "cell_type": "code",
   "execution_count": 13,
   "id": "1e4e7846",
   "metadata": {},
   "outputs": [
    {
     "name": "stdout",
     "output_type": "stream",
     "text": [
      "Diabetes\n",
      "best score: 0.8717785555202037 --- max_features: 19\n",
      "\n",
      "Heart Disease\n",
      "best score: 0.9327731092436975 --- max_features: 8\n"
     ]
    },
    {
     "data": {
      "image/png": "[encoded data removed]",
      "text/plain": [
       "<Figure size 720x360 with 1 Axes>"
      ]
     },
     "metadata": {
      "needs_background": "light"
     },
     "output_type": "display_data"
    }
   ],
   "source": [
    "fig, ax = plt.subplots(figsize=(10,5))\n",
    "print('Diabetes')\n",
    "diab_depth_scores, diab_depth_values = dt_tree_validation(X_train_diab, y_train_diab, \n",
    "                                                          X_test_diab, y_test_diab,\n",
    "                                                          'max_features', 1, X_train_diab.shape[1],\n",
    "                                                          params={'max_depth':3, 'min_samples_leaf':2})\n",
    "print('\\nHeart Disease')\n",
    "heart_depth_scores, heart_depth_values = dt_tree_validation(X_train_heart, y_train_heart, \n",
    "                                                            X_test_heart, y_test_heart,\n",
    "                                                            'max_features', 1, X_train_heart.shape[1],\n",
    "                                                            params={'max_depth':4, 'min_samples_leaf':9})\n",
    "ax.plot(diab_depth_values, diab_depth_scores, label='Diabetes')\n",
    "ax.plot(heart_depth_values, heart_depth_scores, label='Heart Disease')\n",
    "ax.grid()\n",
    "ax.set_title('Max Features vs Recall')\n",
    "ax.set_xlabel('Max Features')\n",
    "plt.legend()\n",
    "ax.set_ylabel('Recall');"
   ]
  },
  {
   "cell_type": "code",
   "execution_count": 14,
   "id": "aeca8bad",
   "metadata": {},
   "outputs": [
    {
     "data": {
      "text/plain": [
       "0.8717785555202037"
      ]
     },
     "execution_count": 14,
     "metadata": {},
     "output_type": "execute_result"
    }
   ],
   "source": [
    "diab_params = {'max_depth':3, 'min_samples_leaf':2, 'max_features':19, 'random_state':0}\n",
    "diab_dt = DecisionTreeClassifier(**diab_params)\n",
    "diab_dt.fit(X_train_diab, y_train_diab)\n",
    "get_recall(diab_dt, X_test_diab, y_test_diab)"
   ]
  },
  {
   "cell_type": "code",
   "execution_count": 15,
   "id": "e7da321a",
   "metadata": {},
   "outputs": [
    {
     "data": {
      "text/plain": [
       "0.9327731092436975"
      ]
     },
     "execution_count": 15,
     "metadata": {},
     "output_type": "execute_result"
    }
   ],
   "source": [
    "heart_params = {'max_depth':4, 'min_samples_leaf':9, 'max_features':8, 'random_state':0}\n",
    "heart_dt = DecisionTreeClassifier(**heart_params)\n",
    "heart_dt.fit(X_train_heart, y_train_heart)\n",
    "get_recall(heart_dt, X_test_heart, y_test_heart)"
   ]
  },
  {
   "cell_type": "code",
   "execution_count": 16,
   "id": "334b6796",
   "metadata": {},
   "outputs": [],
   "source": [
    "import json\n",
    "with open('params/dt_params.json', 'w') as f:\n",
    "    params = {'diab':diab_params, 'heart':heart_params}\n",
    "    json.dump(params, f)"
   ]
  },
  {
   "cell_type": "code",
   "execution_count": null,
   "id": "ce00b009",
   "metadata": {},
   "outputs": [],
   "source": []
  }
 ],
 "metadata": {
  "kernelspec": {
   "display_name": "Python 3 (ipykernel)",
   "language": "python",
   "name": "python3"
  },
  "language_info": {
   "codemirror_mode": {
    "name": "ipython",
    "version": 3
   },
   "file_extension": ".py",
   "mimetype": "text/x-python",
   "name": "python",
   "nbconvert_exporter": "python",
   "pygments_lexer": "ipython3",
   "version": "3.9.7"
  }
 },
 "nbformat": 4,
 "nbformat_minor": 5
}
